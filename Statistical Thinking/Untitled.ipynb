{
 "cells": [
  {
   "cell_type": "markdown",
   "metadata": {},
   "source": [
    "## 1. How many responders are there? Are there any missing values in any of the variables?"
   ]
  },
  {
   "cell_type": "code",
   "execution_count": 1,
   "metadata": {},
   "outputs": [
    {
     "name": "stdout",
     "output_type": "stream",
     "text": [
      "There are 514 respondents\n",
      "True\n",
      "True\n"
     ]
    }
   ],
   "source": [
    "import pandas as pd\n",
    "salary_data = pd.read_csv('salary.csv') \n",
    "print(f\"There are {len(salary_data)} respondents\")\n",
    "print(salary_data.isnull().values.any())\n",
    "print(salary_data.isna().values.any())"
   ]
  },
  {
   "cell_type": "markdown",
   "metadata": {},
   "source": [
    "## 2. What is the lowest salary and highest salary in the group?\n",
    "From looking at the we can see that the salaries have a relatively large range."
   ]
  },
  {
   "cell_type": "code",
   "execution_count": 2,
   "metadata": {},
   "outputs": [
    {
     "name": "stdout",
     "output_type": "stream",
     "text": [
      "The lowest salary is 29000.0\n",
      "The highest salary is 96156.0\n"
     ]
    }
   ],
   "source": [
    "lowest = salary_data['salary'].min()\n",
    "print(f'The lowest salary is {lowest}')\n",
    "highest = salary_data['salary'].max()\n",
    "print(f'The highest salary is {highest}')"
   ]
  },
  {
   "cell_type": "markdown",
   "metadata": {},
   "source": [
    "# 3. What is the mean salary for the sample? Include the standard error of the mean.\n"
   ]
  },
  {
   "cell_type": "code",
   "execution_count": 3,
   "metadata": {},
   "outputs": [
    {
     "name": "stdout",
     "output_type": "stream",
     "text": [
      "The mean salary is 50863.22009783626\n",
      "The standard error of salary is 560.0622753925232\n"
     ]
    }
   ],
   "source": [
    "from scipy import stats\n",
    "mean = salary_data['salary'].mean()\n",
    "print(f'The mean salary is {mean}')\n",
    "sem = salary_data['salary'].sem()\n",
    "print(f'The standard error of salary is {sem}')"
   ]
  },
  {
   "cell_type": "markdown",
   "metadata": {},
   "source": [
    "# 4.What is the standard deviation for the years worked?\n"
   ]
  },
  {
   "cell_type": "code",
   "execution_count": 4,
   "metadata": {},
   "outputs": [
    {
     "name": "stdout",
     "output_type": "stream",
     "text": [
      "The standard deviation is 9.435503224576884\n"
     ]
    }
   ],
   "source": [
    "import numpy as np\n",
    "std = np.std(salary_data['yearsworked'])\n",
    "print(f'The standard deviation is {std}')"
   ]
  },
  {
   "cell_type": "markdown",
   "metadata": {},
   "source": [
    "# 5. What is the median salary for the sample?\n"
   ]
  },
  {
   "cell_type": "code",
   "execution_count": 5,
   "metadata": {},
   "outputs": [
    {
     "name": "stdout",
     "output_type": "stream",
     "text": [
      "The median salary is 50096.0\n"
     ]
    }
   ],
   "source": [
    "median = salary_data['salary'].median()\n",
    "print(f'The median salary is {median}')"
   ]
  },
  {
   "cell_type": "markdown",
   "metadata": {},
   "source": [
    "# 6. What is the interquartile range for salary in the sample?\n"
   ]
  },
  {
   "cell_type": "code",
   "execution_count": 6,
   "metadata": {},
   "outputs": [
    {
     "name": "stdout",
     "output_type": "stream",
     "text": [
      "20345.0\n"
     ]
    }
   ],
   "source": [
    "import numpy as np\n",
    "q1 = salary_data['salary'].quantile(0.25)\n",
    "q3 = salary_data['salary'].quantile(0.75)\n",
    "iqr = q3-q1\n",
    "print(iqr)"
   ]
  },
  {
   "cell_type": "markdown",
   "metadata": {},
   "source": [
    "# 7. How many men are there in the sample? How many women are there in the sample? Present this information in a table.\n",
    "There is a large number of executives are unevenly distributed there are too little female executives"
   ]
  },
  {
   "cell_type": "code",
   "execution_count": 7,
   "metadata": {},
   "outputs": [
    {
     "data": {
      "text/html": [
       "<div>\n",
       "<style scoped>\n",
       "    .dataframe tbody tr th:only-of-type {\n",
       "        vertical-align: middle;\n",
       "    }\n",
       "\n",
       "    .dataframe tbody tr th {\n",
       "        vertical-align: top;\n",
       "    }\n",
       "\n",
       "    .dataframe thead th {\n",
       "        text-align: right;\n",
       "    }\n",
       "</style>\n",
       "<table border=\"1\" class=\"dataframe\">\n",
       "  <thead>\n",
       "    <tr style=\"text-align: right;\">\n",
       "      <th></th>\n",
       "      <th>gender</th>\n",
       "    </tr>\n",
       "  </thead>\n",
       "  <tbody>\n",
       "    <tr>\n",
       "      <th>male</th>\n",
       "      <td>386</td>\n",
       "    </tr>\n",
       "    <tr>\n",
       "      <th>female</th>\n",
       "      <td>128</td>\n",
       "    </tr>\n",
       "  </tbody>\n",
       "</table>\n",
       "</div>"
      ],
      "text/plain": [
       "        gender\n",
       "male       386\n",
       "female     128"
      ]
     },
     "execution_count": 7,
     "metadata": {},
     "output_type": "execute_result"
    }
   ],
   "source": [
    "table = salary_data['male'].value_counts() \n",
    "table.index = ['male','female']\n",
    "k = table.to_frame() \n",
    "k.rename(columns={'male': 'gender'}, inplace=True)\n",
    "k"
   ]
  },
  {
   "cell_type": "markdown",
   "metadata": {},
   "source": [
    "# 8. How many women are executives compared to men?"
   ]
  },
  {
   "cell_type": "code",
   "execution_count": 19,
   "metadata": {},
   "outputs": [
    {
     "name": "stdout",
     "output_type": "stream",
     "text": [
      "There are 192 male executives\n",
      "There are 19 female executives\n",
      "There are 173 more male executives compared to women\n"
     ]
    }
   ],
   "source": [
    "executive = salary_data[salary_data['position'] == 3]\n",
    "e = executive['male'].value_counts()\n",
    "comparison = e.iloc[0] - e.iloc[1]\n",
    "print(f'There are {e.iloc[0]} male executives')\n",
    "print(f'There are {e.iloc[1]} female executives')\n",
    "print(f'There are {comparison} more male executives compared to women')"
   ]
  },
  {
   "cell_type": "markdown",
   "metadata": {},
   "source": [
    "# 9. Create a histogram for the variable Salary.\n"
   ]
  },
  {
   "cell_type": "code",
   "execution_count": 9,
   "metadata": {},
   "outputs": [
    {
     "data": {
      "text/plain": [
       "<Figure size 640x480 with 1 Axes>"
      ]
     },
     "metadata": {},
     "output_type": "display_data"
    }
   ],
   "source": [
    "import matplotlib.pyplot as plt\n",
    "salary_data.hist(column='salary',grid=False)\n",
    "plt.xlabel('Amount')\n",
    "plt.ylabel('Number of people')\n",
    "plt.show()"
   ]
  },
  {
   "cell_type": "markdown",
   "metadata": {},
   "source": [
    "# 10. Examine the histogram and describe the distribution for Salary.\n"
   ]
  },
  {
   "cell_type": "markdown",
   "metadata": {},
   "source": [
    "A left-skewed distribution: a large number of people are on the left side of the graph from this we can conclude\n",
    "most people earn in the low/medium range of salaries"
   ]
  },
  {
   "cell_type": "markdown",
   "metadata": {},
   "source": [
    "# 11. Create a bar graph to show the different average salaries of men and women. (Bonus: Add error bars to the bars showing the 95% confidence interval). What does the graph tell you about the difference between men and women’s salaries?\n"
   ]
  },
  {
   "cell_type": "code",
   "execution_count": 20,
   "metadata": {},
   "outputs": [
    {
     "data": {
      "image/png": "[encoded data removed]",
      "text/plain": [
       "<Figure size 432x288 with 1 Axes>"
      ]
     },
     "metadata": {
      "needs_background": "light"
     },
     "output_type": "display_data"
    }
   ],
   "source": [
    "import seaborn as sns\n",
    "average_salary = salary_data['salary'].groupby(salary_data['male']).mean()\n",
    "average_salary = average_salary.to_frame()\n",
    "average_salary.index = ['female','male']\n",
    "std_s = salary_data['salary'].std()\n",
    "sns.barplot(x=average_salary.index, y=\"salary\", data=average_salary, yerr=std_s )\n",
    "plt.xlabel('Gender')\n",
    "plt.ylabel('Average Salary')\n",
    "plt.show()"
   ]
  },
  {
   "cell_type": "markdown",
   "metadata": {},
   "source": [
    "Men have a higher average salary than women. From this we can determine that men are more likely earn more money. As determined before there are more male executives than female executives and this could be one of the reasons why men have a higher average salary."
   ]
  },
  {
   "cell_type": "markdown",
   "metadata": {},
   "source": [
    "# 12. Create a scatterplot with seaborn showing the relationship between Years Worked and Salary (don’t forget to insert a trend line).  "
   ]
  },
  {
   "cell_type": "code",
   "execution_count": 35,
   "metadata": {},
   "outputs": [
    {
     "data": {
      "image/png": "[encoded data removed]",
      "text/plain": [
       "<Figure size 432x288 with 1 Axes>"
      ]
     },
     "metadata": {
      "needs_background": "light"
     },
     "output_type": "display_data"
    }
   ],
   "source": [
    "sns.regplot(x = salary_data['yearsworked'], y = salary_data['salary'])\n",
    "plt.show()"
   ]
  },
  {
   "cell_type": "code",
   "execution_count": 30,
   "metadata": {},
   "outputs": [
    {
     "data": {
      "text/html": [
       "<div>\n",
       "<style scoped>\n",
       "    .dataframe tbody tr th:only-of-type {\n",
       "        vertical-align: middle;\n",
       "    }\n",
       "\n",
       "    .dataframe tbody tr th {\n",
       "        vertical-align: top;\n",
       "    }\n",
       "\n",
       "    .dataframe thead th {\n",
       "        text-align: right;\n",
       "    }\n",
       "</style>\n",
       "<table border=\"1\" class=\"dataframe\">\n",
       "  <thead>\n",
       "    <tr style=\"text-align: right;\">\n",
       "      <th></th>\n",
       "      <th>salary</th>\n",
       "      <th>exprior</th>\n",
       "      <th>yearsworked</th>\n",
       "      <th>yearsrank</th>\n",
       "      <th>market</th>\n",
       "      <th>degree</th>\n",
       "      <th>otherqual</th>\n",
       "      <th>position</th>\n",
       "      <th>male</th>\n",
       "      <th>Field</th>\n",
       "      <th>yearsabs</th>\n",
       "    </tr>\n",
       "  </thead>\n",
       "  <tbody>\n",
       "    <tr>\n",
       "      <th>377</th>\n",
       "      <td>96156.0</td>\n",
       "      <td>20</td>\n",
       "      <td>12</td>\n",
       "      <td>12</td>\n",
       "      <td>1.19</td>\n",
       "      <td>1</td>\n",
       "      <td>0</td>\n",
       "      <td>3</td>\n",
       "      <td>1</td>\n",
       "      <td>1</td>\n",
       "      <td>2</td>\n",
       "    </tr>\n",
       "  </tbody>\n",
       "</table>\n",
       "</div>"
      ],
      "text/plain": [
       "      salary  exprior  yearsworked  yearsrank  market  degree  otherqual  \\\n",
       "377  96156.0       20           12         12    1.19       1          0   \n",
       "\n",
       "     position  male  Field  yearsabs  \n",
       "377         3     1      1         2  "
      ]
     },
     "execution_count": 30,
     "metadata": {},
     "output_type": "execute_result"
    }
   ],
   "source": [
    "salary_data.loc[salary_data['salary'] == salary_data['salary'].max()]"
   ]
  },
  {
   "cell_type": "markdown",
   "metadata": {},
   "source": [
    "We can interpret from this graph that the more expericence you have the more likely you are to earn more money. There is a higher concentration of data below the line. So for whichever number of years you've worked. You are more likely to be in the lower/medium range salary relative to your peers who have the same number of years as you. People also tend to only spend 30 years in a single career.There is an unusual value where someone has 12 years experience and earns 96156.0. This could be due to the fact that they have 20 years prior experience to the 12, so that 20 years could be of value to their current job. They have a degreee. It is also a male as seen from previous graphs men tend to earn more. They are also in an executive position.\n"
   ]
  },
  {
   "cell_type": "markdown",
   "metadata": {},
   "source": [
    "# 13. Using the pearsonr function from the scipy.stats package, calculate the Pearson correlation coefficient (and its corresponding p value) to determine the nature of the relationship between Years Worked and Salary. See help(pearsonr) for help on this function."
   ]
  },
  {
   "cell_type": "code",
   "execution_count": 13,
   "metadata": {},
   "outputs": [
    {
     "name": "stdout",
     "output_type": "stream",
     "text": [
      "(0.6235888657598045, 1.2873351342921916e-56)\n"
     ]
    }
   ],
   "source": [
    "from scipy.stats import pearsonr\n",
    "df = salary_data.dropna(subset=['salary'])\n",
    "p = pearsonr(df['yearsworked'], df['salary'])\n",
    "print(p)"
   ]
  },
  {
   "cell_type": "markdown",
   "metadata": {},
   "source": [
    "There is a moderate correlation between years worked and salary. The p-value is close to 0, this means there is very little to almost no correlation. Therefore, years does not really affect the salary you earn."
   ]
  }
 ],
 "metadata": {
  "kernelspec": {
   "display_name": "Python 3",
   "language": "python",
   "name": "python3"
  },
  "language_info": {
   "codemirror_mode": {
    "name": "ipython",
    "version": 3
   },
   "file_extension": ".py",
   "mimetype": "text/x-python",
   "name": "python",
   "nbconvert_exporter": "python",
   "pygments_lexer": "ipython3",
   "version": "3.7.3"
  }
 },
 "nbformat": 4,
 "nbformat_minor": 2
}
